{
 "cells": [
  {
   "cell_type": "code",
   "execution_count": 1,
   "metadata": {},
   "outputs": [
    {
     "ename": "ModuleNotFoundError",
     "evalue": "No module named 'yaml'",
     "output_type": "error",
     "traceback": [
      "\u001b[1;31m---------------------------------------------------------------------------\u001b[0m",
      "\u001b[1;31mModuleNotFoundError\u001b[0m                       Traceback (most recent call last)",
      "Cell \u001b[1;32mIn[1], line 1\u001b[0m\n\u001b[1;32m----> 1\u001b[0m \u001b[38;5;28;01mimport\u001b[39;00m \u001b[38;5;21;01myaml\u001b[39;00m\n\u001b[0;32m      2\u001b[0m \u001b[38;5;28;01mfrom\u001b[39;00m \u001b[38;5;21;01mdb_utils\u001b[39;00m \u001b[38;5;28;01mimport\u001b[39;00m RDSDatabaseConnector, load_data\n\u001b[0;32m      3\u001b[0m \u001b[38;5;28;01mfrom\u001b[39;00m \u001b[38;5;21;01mdataframe_info\u001b[39;00m \u001b[38;5;28;01mimport\u001b[39;00m DataFrameInfo\n",
      "\u001b[1;31mModuleNotFoundError\u001b[0m: No module named 'yaml'"
     ]
    }
   ],
   "source": [
    "import yaml\n",
    "from db_utils import RDSDatabaseConnector, load_data\n",
    "from dataframe_info import DataFrameInfo\n",
    "\n",
    "# Load database credentials from the YAML file\n",
    "credentials_file = 'credentials.yaml'\n",
    "\n",
    "# Load the credentials\n",
    "with open(credentials_file, 'r') as file:\n",
    "    credentials = yaml.safe_load(file)\n",
    "\n",
    "# Create an instance of RDSDatabaseConnector\n",
    "rds_connector = RDSDatabaseConnector(credentials)\n",
    "\n",
    "# Connect to the database\n",
    "rds_connector.connect()\n",
    "\n",
    "# Extract data from the RDS database\n",
    "table_name = 'loan_payments'\n",
    "df = rds_connector.extract_data(table_name)\n",
    "\n",
    "# Save the extracted data to a CSV file\n",
    "if df is not None:\n",
    "    file_path = 'loan_payments.csv'\n",
    "    rds_connector.save_to_csv(df, file_path)\n",
    "\n",
    "# Disconnect from the database\n",
    "rds_connector.disconnect()\n",
    "\n",
    "# Call the load_data function to load the data\n",
    "df = load_data(file_path)\n",
    "\n",
    "# Check if data is loaded successfully\n",
    "if df is not None:\n",
    "    print(df.head())  # Print the first few rows of the DataFrame\n",
    "    # Do further processing or analysis with the loaded DataFrame\n",
    "else:\n",
    "    print(\"Failed to load data. Check the file path and try again.\")\n",
    "\n",
    "# Use DataFrameInfo to extract information about the DataFrame\n",
    "df_info = DataFrameInfo(df)\n",
    "        \n",
    "# Using DataFrameInfo methods\n",
    "print(\"Column Data Types:\")\n",
    "print(df_info.describe_columns())\n",
    "print()\n",
    "\n",
    "print(\"Statistical Values:\")\n",
    "print(df_info.extract_statistics())\n",
    "print()\n",
    "\n",
    "print(\"Distinct Values in Categorical Columns:\")\n",
    "print(df_info.count_distinct_values())\n",
    "print()\n",
    "\n",
    "print(\"Null Values in Each Column:\")\n",
    "print(df_info.count_null_values())\n",
    "print()\n",
    "\n",
    "print(\"Shape of the DataFrame:\")\n",
    "df_info.print_shape()"
   ]
  }
 ],
 "metadata": {
  "kernelspec": {
   "display_name": "hangman",
   "language": "python",
   "name": "python3"
  },
  "language_info": {
   "codemirror_mode": {
    "name": "ipython",
    "version": 3
   },
   "file_extension": ".py",
   "mimetype": "text/x-python",
   "name": "python",
   "nbconvert_exporter": "python",
   "pygments_lexer": "ipython3",
   "version": "3.10.8"
  }
 },
 "nbformat": 4,
 "nbformat_minor": 2
}
